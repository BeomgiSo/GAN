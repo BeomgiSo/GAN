{
 "cells": [
  {
   "cell_type": "markdown",
   "metadata": {},
   "source": [
    "# GAN : Generative Adversarial Neworks\n",
    "- Generative model 생성모델\n",
    "\n",
    "## 기본\n",
    "- 확률분포 : 확률 변수가 특정한 값을 가질수 있는 확률을 나타내는 함수\n",
    "- $X->P(X=x)$\n",
    "- 이산확률 분포 : 확률변수 X의 개수를 `정확히 셀 수 있을 때` 이산확률 분포라고 말한다.\n",
    "- 연속확률 분포 : 확률변수 X의 개수를 `정확히 샐 수 없을 때` 연속확률분포라 말한다.(확률 밀도 함수를 이용해 분포를 표현)\n",
    "    - ex : 정규분포\n",
    "    - 실제 세계의 많은 데이터는 정규분포로 표현 할 수 있다.\n",
    "    - ex : IQ에 대한 정규분포 예시\n",
    "\n",
    "![normal distribution](img/gan_1.png)\n",
    "\n",
    "- 이미지 데이터에 대한 확률 분포\n",
    "    - 이미지 데이터는 다차원 특징 공간의 한 점으로 표현가능하다.\n",
    "        - 이미지의 분포를 근사하는 모델을 학습할 수 있다.\n",
    "    - 사람의 얼굴에는 `통계적인 평균치`가 존재할 수 있다.\n",
    "        - 모델은 이를 수치적으로 표현할 수 있게 된다.\n",
    "        - ex) 눈의길이, 코의 높이 및 길이 등등\n",
    "- 이지에서의 다양한 특징들이 각각의 확률 변수가 되는 분포를 의미한다.\n",
    "    - 다변수 확률분포(multivariate probability distributuin)의 예시는 다음과 같다.\n",
    "    \n",
    "![normal distribution](img/gan_2.png)\n",
    "\n",
    "- 기댓값 공식\n",
    "- 이산확률변수 : $E[X]=\\sum_{i}{x\\cdot f(x_i)}$\n",
    "- 이산확률변수 : $E[X]=\\int{x\\cdot f(x_i)}$\n",
    "\n",
    "\n",
    "> 생성모델(Generative Models)\n",
    "    - 생성 모델은 실존하지 않지만 있을 법한 이미지를 생성할 수 있는 모델을 의미한다.\n",
    "\n",
    "![normal distribution](img/gan_3.png)\n",
    "\n",
    "- 일반적인 분류 모델(어떻게 선을 만들까?) vs 생성모델(각각의 data의 분포를 학습)\n",
    "- joint probability distribution 통계적 모델로 설명가능하다.\n",
    "- data instances(사진한장) 구별되는 데이터 객체를 생성가능하다.\n",
    "- 잘학습하면 통계적인 학습치를 학습할 수 있다.\n",
    "- 확률값이 높은 이미지 -> 잘 만든다.\n",
    "- 확률값이 낮은 이미지 -> 덜 학습되어 어색한 이미지를 생성한다.\n",
    "- 따라서 확률값이 낮은 이미지 분포에서는 random하게 sample하고 noise를 섞어가면서 image를 만든다.\n",
    "\n",
    "> Goal\n",
    "    - 이미지 데이터 분포를 근사하는 분포를 근사하는 모델 G를 만드는 것이 생성 모델의 목표\n",
    "    - 모델 G가 잘 동작한다는 의미는 원래 이미지들의 분포를 잘 모델링 할 수 있다는 것을 의미한다.\n",
    "        - 2014년에 제안된 Generative Adversarial Networks(GAN)이 대표적이다.\n",
    "        - GAN으로부터 매우 다양한 논문들이 파생된다.\n",
    "\n",
    "\n",
    "![normal distribution](img/gan_4.png)\n",
    "- 초록색 -> 원본 그래프로의 학습\n",
    "- 생성모델 G의 분포를 학습시킨다.\n",
    "\n",
    "- 모델 G의 학습이 잘 되었다면 원본 데이터의 분포를 근사할 수 있다.\n",
    "    - 학습이 잘 되었다면 통계적으로 평균적인 특징을 가지는 데이터를 쉽게 생성할 수 있습니다.\n",
    "\n",
    "![normal distribution](img/gan_5.png)\n",
    "\n",
    "![normal distribution](img/gan_7.png)\n",
    "- z즉, latent를 학습하고싶다.\n",
    "- Pg가 어떻게 pdata으로 수렴이 가능한자?\n",
    "- 원본 데이터의 주변값을 뽑아서 noise를 넣어 뽑아내 가짜 data를 뽑아낸다.\n",
    "\n",
    "> GAN(Generative Adverial Networks)\n",
    "- 생성자(generator)와 판별자(discriminator)두 개의 네트워크를 활용한 생성 모델\n",
    "- 다음의 목적함수(Objective function)을 통해 생성자는 이미지 분포를 학습할 수 있다.\n",
    "\n",
    "![normal distribution](img/gan_6.png)\n",
    "\n",
    "\n",
    "- 최종적으로 생성자를 만드는것이다.\n",
    "- 판별자는 생성자를 도와준다.\n",
    "- V :objective function ,D:판별자 ,G:생성자\n",
    "- G(z) : new data instance\n",
    "- D(x) : probability : a sample came from the real distribution\n",
    "- $x\\sim P_{data}(x)$ : 원본데이터 data set에서 하나를 뽑아 넣는다는 의미\n",
    "- $z \\sim P_{z}(Z)$ : noise를 뽑을 수 있는 sampling distibution\n",
    "- 뒤의 항이 0에 수렴하도록 학습을 진행하겠다.\n",
    "- z : latent vector -> noise vector이다.\n",
    "- game 이론의 optimization\n",
    "\n",
    "- D혹은 G를 번갈아가면서 훈련시킨다.\n",
    "- 프로그램상에서 기대값(expected value)을 계산하는 간단한 방법은?\n",
    "    - 단순히 모든 데이터를 하나씩 확인하여 식에 대입한 뒤에 평균을 계산한다.\n",
    "- $E_{x\\sim P_{data}(x)}[logD(x)]$ :원본 데이터 분포에서 샘플 x를 뽑아 logD(x)의 기댓값 계산\n",
    "- $E_{z \\sim P_{z}}[log(1-D(G(z)))]$ : 노이즈 분포에서 샘플z를 뽑아 log(1-D(G(z)))의 기대값을 계산한다.\n",
    "\n",
    "> proof(수렴의 증명)\n",
    "![normal distribution](img/gan_8.png)\n",
    "- 즉 max값을 갖는 V(G,D)가 존재한다\n",
    "\n",
    "![normal distribution](img/gan_9.png)\n",
    "- KL divergence : divergence 쿨벡 레이블러 발산\n",
    "    - 의의 : 두개의 분포가 있을때 두개의 분포가 얼마나 차이가 나는지 확인하는 용도\n",
    "- JSD(Jenson-shannon divergence) : distance matric으로 확인이 가능하다. => 동일하면 0을 갖아 -log(4)의 point를 갖을 수 있다.\n",
    "\n",
    "- GAN은 학습이 어렵다 -> 학습의 안정성이 부족하다.\n",
    "    - 다양한 수렴 method들이 존재한다\n",
    "> GAN 알고리즘\n",
    "![normal distribution](img/gan_10.png)\n",
    "\n",
    "![normal distribution](img/gan_11.png)\n",
    "\n",
    "- ref)\n",
    "- https://github.com/ndb796/Deep-Learning-Paper-Review-and-Practice\n"
   ]
  },
  {
   "cell_type": "code",
   "execution_count": 1,
   "metadata": {},
   "outputs": [],
   "source": [
    "from tensorflow.keras import layers\n",
    "import tensorflow as tf\n",
    "import matplotlib.pyplot as plt\n",
    "import os\n",
    "import time\n",
    "import PIL\n",
    "import numpy as np\n",
    "from IPython import display\n",
    "import imageio"
   ]
  },
  {
   "cell_type": "code",
   "execution_count": 2,
   "metadata": {},
   "outputs": [],
   "source": [
    "(train_images, train_labels), (_, _) = tf.keras.datasets.mnist.load_data()\n",
    "train_images = train_images.reshape(train_images.shape[0], 28, 28, 1).astype('float32')\n",
    "train_images = (train_images - 127.5) / 127.5 # 이미지를 [-1, 1]로 정규화합니다."
   ]
  },
  {
   "cell_type": "code",
   "execution_count": 3,
   "metadata": {},
   "outputs": [
    {
     "name": "stdout",
     "output_type": "stream",
     "text": [
      "Metal device set to: Apple M1 Pro\n",
      "\n",
      "systemMemory: 16.00 GB\n",
      "maxCacheSize: 5.33 GB\n",
      "\n"
     ]
    },
    {
     "name": "stderr",
     "output_type": "stream",
     "text": [
      "2022-06-04 17:14:47.102093: I tensorflow/core/common_runtime/pluggable_device/pluggable_device_factory.cc:305] Could not identify NUMA node of platform GPU ID 0, defaulting to 0. Your kernel may not have been built with NUMA support.\n",
      "2022-06-04 17:14:47.102216: I tensorflow/core/common_runtime/pluggable_device/pluggable_device_factory.cc:271] Created TensorFlow device (/job:localhost/replica:0/task:0/device:GPU:0 with 0 MB memory) -> physical PluggableDevice (device: 0, name: METAL, pci bus id: <undefined>)\n"
     ]
    }
   ],
   "source": [
    "BUFFER_SIZE = 60000\n",
    "BATCH_SIZE = 256\n",
    "train_dataset = tf.data.Dataset.from_tensor_slices(train_images).shuffle(BUFFER_SIZE).batch(BATCH_SIZE)"
   ]
  },
  {
   "cell_type": "code",
   "execution_count": 4,
   "metadata": {},
   "outputs": [],
   "source": [
    "def make_generator_model():\n",
    "    model = tf.keras.Sequential()\n",
    "    model.add(layers.Dense(7*7*256, use_bias=False, input_shape=(100,)))\n",
    "    model.add(layers.BatchNormalization())\n",
    "    model.add(layers.LeakyReLU())\n",
    "\n",
    "    model.add(layers.Reshape((7, 7, 256)))\n",
    "    assert model.output_shape == (None, 7, 7, 256) # 주목: 배치사이즈로 None이 주어집니다.\n",
    "\n",
    "    model.add(layers.Conv2DTranspose(128, (5, 5), strides=(1, 1), padding='same', use_bias=False))\n",
    "    assert model.output_shape == (None, 7, 7, 128)\n",
    "    model.add(layers.BatchNormalization())\n",
    "    model.add(layers.LeakyReLU())\n",
    "\n",
    "    model.add(layers.Conv2DTranspose(64, (5, 5), strides=(2, 2), padding='same', use_bias=False))\n",
    "    assert model.output_shape == (None, 14, 14, 64)\n",
    "    model.add(layers.BatchNormalization())\n",
    "    model.add(layers.LeakyReLU())\n",
    "\n",
    "    model.add(layers.Conv2DTranspose(1, (5, 5), strides=(2, 2), padding='same', use_bias=False, activation='tanh'))\n",
    "    assert model.output_shape == (None, 28, 28, 1)\n",
    "\n",
    "    return model"
   ]
  },
  {
   "cell_type": "code",
   "execution_count": 5,
   "metadata": {},
   "outputs": [],
   "source": [
    "def make_discriminator_model():\n",
    "    model = tf.keras.Sequential()\n",
    "    model.add(layers.Conv2D(64, (5, 5), strides=(2, 2), padding='same',\n",
    "                                     input_shape=[28, 28, 1]))\n",
    "    model.add(layers.LeakyReLU())\n",
    "    model.add(layers.Dropout(0.3))\n",
    "\n",
    "    model.add(layers.Conv2D(128, (5, 5), strides=(2, 2), padding='same'))\n",
    "    model.add(layers.LeakyReLU())\n",
    "    model.add(layers.Dropout(0.3))\n",
    "\n",
    "    model.add(layers.Flatten())\n",
    "    model.add(layers.Dense(1))\n",
    "\n",
    "    return model"
   ]
  },
  {
   "cell_type": "code",
   "execution_count": 6,
   "metadata": {},
   "outputs": [],
   "source": [
    "def discriminator_loss(real_output, fake_output):\n",
    "    real_loss = cross_entropy(tf.ones_like(real_output), real_output)\n",
    "    fake_loss = cross_entropy(tf.zeros_like(fake_output), fake_output)\n",
    "    total_loss = real_loss + fake_loss\n",
    "    return total_loss"
   ]
  },
  {
   "cell_type": "code",
   "execution_count": 7,
   "metadata": {},
   "outputs": [],
   "source": [
    "def generator_loss(fake_output):\n",
    "    return cross_entropy(tf.ones_like(fake_output), fake_output)"
   ]
  },
  {
   "cell_type": "code",
   "execution_count": 8,
   "metadata": {},
   "outputs": [
    {
     "data": {
      "text/plain": [
       "<matplotlib.image.AxesImage at 0x169f39280>"
      ]
     },
     "execution_count": 8,
     "metadata": {},
     "output_type": "execute_result"
    },
    {
     "data": {
      "image/png": "[encoded data removed]",
      "text/plain": [
       "<Figure size 432x288 with 1 Axes>"
      ]
     },
     "metadata": {
      "needs_background": "light"
     },
     "output_type": "display_data"
    }
   ],
   "source": [
    "generator = make_generator_model()\n",
    "\n",
    "noise = tf.random.normal([1, 100])\n",
    "generated_image = generator(noise, training=False)\n",
    "\n",
    "plt.imshow(generated_image[0, :, :, 0], cmap='gray')"
   ]
  },
  {
   "cell_type": "code",
   "execution_count": 9,
   "metadata": {},
   "outputs": [
    {
     "name": "stdout",
     "output_type": "stream",
     "text": [
      "tf.Tensor([[0.00157987]], shape=(1, 1), dtype=float32)\n"
     ]
    }
   ],
   "source": [
    "discriminator = make_discriminator_model()\n",
    "decision = discriminator(generated_image)\n",
    "print (decision)"
   ]
  },
  {
   "cell_type": "code",
   "execution_count": 10,
   "metadata": {},
   "outputs": [],
   "source": [
    "# 이 메서드는 크로스 엔트로피 손실함수 (cross entropy loss)를 계산하기 위해 헬퍼 (helper) 함수를 반환합니다.\n",
    "cross_entropy = tf.keras.losses.BinaryCrossentropy(from_logits=True)"
   ]
  },
  {
   "cell_type": "code",
   "execution_count": 11,
   "metadata": {},
   "outputs": [],
   "source": [
    "generator_optimizer = tf.keras.optimizers.Adam(1e-4)\n",
    "discriminator_optimizer = tf.keras.optimizers.Adam(1e-4)\n",
    "\n",
    "checkpoint_dir = './training_checkpoints'\n",
    "checkpoint_prefix = os.path.join(checkpoint_dir, \"ckpt\")\n",
    "checkpoint = tf.train.Checkpoint(generator_optimizer=generator_optimizer,\n",
    "                                 discriminator_optimizer=discriminator_optimizer,\n",
    "                                 generator=generator,\n",
    "                                 discriminator=discriminator)"
   ]
  },
  {
   "cell_type": "code",
   "execution_count": 29,
   "metadata": {},
   "outputs": [],
   "source": [
    "EPOCHS = 5000000000\n",
    "noise_dim = 100\n",
    "num_examples_to_generate = 16\n",
    "\n",
    "# 이 시드를 시간이 지나도 재활용하겠습니다. \n",
    "# (GIF 애니메이션에서 진전 내용을 시각화하는데 쉽기 때문입니다.) \n",
    "seed = tf.random.normal([num_examples_to_generate, noise_dim])"
   ]
  },
  {
   "cell_type": "code",
   "execution_count": 13,
   "metadata": {},
   "outputs": [],
   "source": [
    "# `tf.function`이 어떻게 사용되는지 주목해 주세요.\n",
    "# 이 데코레이터는 함수를 \"컴파일\"합니다.\n",
    "@tf.function\n",
    "def train_step(images):\n",
    "    noise = tf.random.normal([BATCH_SIZE, noise_dim])\n",
    "\n",
    "    with tf.GradientTape() as gen_tape, tf.GradientTape() as disc_tape:\n",
    "      generated_images = generator(noise, training=True)\n",
    "\n",
    "      real_output = discriminator(images, training=True)\n",
    "      fake_output = discriminator(generated_images, training=True)\n",
    "\n",
    "      gen_loss = generator_loss(fake_output)\n",
    "      disc_loss = discriminator_loss(real_output, fake_output)\n",
    "\n",
    "    gradients_of_generator = gen_tape.gradient(gen_loss, generator.trainable_variables)\n",
    "    gradients_of_discriminator = disc_tape.gradient(disc_loss, discriminator.trainable_variables)\n",
    "\n",
    "    generator_optimizer.apply_gradients(zip(gradients_of_generator, generator.trainable_variables))\n",
    "    discriminator_optimizer.apply_gradients(zip(gradients_of_discriminator, discriminator.trainable_variables))"
   ]
  },
  {
   "cell_type": "code",
   "execution_count": 14,
   "metadata": {},
   "outputs": [],
   "source": [
    "def train(dataset, epochs):\n",
    "    for epoch in range(epochs):\n",
    "      start = time.time()\n",
    "\n",
    "    for image_batch in dataset:\n",
    "      train_step(image_batch)\n",
    "\n",
    "    # GIF를 위한 이미지를 바로 생성합니다.\n",
    "    display.clear_output(wait=True)\n",
    "    generate_and_save_images(generator,\n",
    "                             epoch + 1,\n",
    "                             seed)\n",
    "\n",
    "    # 15 에포크가 지날 때마다 모델을 저장합니다.\n",
    "    if (epoch + 1) % 15 == 0:\n",
    "      checkpoint.save(file_prefix = checkpoint_prefix)\n",
    "    \n",
    "    # print (' 에포크 {} 에서 걸린 시간은 {} 초 입니다'.format(epoch +1, time.time()-start))\n",
    "    print ('Time for epoch {} is {} sec'.format(epoch + 1, time.time()-start))\n",
    "\n",
    "  # 마지막 에포크가 끝난 후 생성합니다.\n",
    "    display.clear_output(wait=True)\n",
    "    generate_and_save_images(generator,\n",
    "                            epochs,\n",
    "                            seed)"
   ]
  },
  {
   "cell_type": "code",
   "execution_count": 15,
   "metadata": {},
   "outputs": [],
   "source": [
    "def generate_and_save_images(model, epoch, test_input):\n",
    "      # `training`이 False로 맞춰진 것을 주목하세요.\n",
    "  # 이렇게 하면 (배치정규화를 포함하여) 모든 층들이 추론 모드로 실행됩니다. \n",
    "  predictions = model(test_input, training=False)\n",
    "\n",
    "  fig = plt.figure(figsize=(4,4))\n",
    "\n",
    "  for i in range(predictions.shape[0]):\n",
    "      plt.subplot(4, 4, i+1)\n",
    "      plt.imshow(predictions[i, :, :, 0] * 127.5 + 127.5, cmap='gray')\n",
    "      plt.axis('off')\n",
    "\n",
    "  plt.savefig('image_at_epoch_{:04d}.png'.format(epoch))\n",
    "  plt.show()"
   ]
  },
  {
   "cell_type": "code",
   "execution_count": 30,
   "metadata": {},
   "outputs": [
    {
     "data": {
      "image/png": "[encoded data removed]",
      "text/plain": [
       "<Figure size 288x288 with 16 Axes>"
      ]
     },
     "metadata": {
      "needs_background": "light"
     },
     "output_type": "display_data"
    },
    {
     "name": "stdout",
     "output_type": "stream",
     "text": [
      "CPU times: user 4min 42s, sys: 6.83 s, total: 4min 48s\n",
      "Wall time: 4min 59s\n"
     ]
    }
   ],
   "source": [
    "%%time\n",
    "train(train_dataset, EPOCHS)"
   ]
  },
  {
   "cell_type": "markdown",
   "metadata": {},
   "source": [
    "# gan의 다양한 종류\n",
    "\n",
    "> DCGAN (depp convolution GAN)\n",
    "- generator을 de-convolution - CNN을 활용해서 만든다.\n",
    "- discriminator CNN\n",
    "- DC GAN의 핵심은 pooling layer을 상요하지않는다.\n",
    "- convolution-deconvolution-ADAM-batchnormalization\n",
    "- Latent vector을 통해 arithmetic 산술이 가능해진다.\n",
    "    - 남자를 생성하는 with 안경 z vector - 남자를 생성하는 latent vector + 여자 latent vector = women with glasses\n",
    "    - latent vector들간의 선형 결합이 가능해졌다.\n",
    "\n",
    "> Least Squares GAN(LSGAN)\n",
    "- gan loss: GAN model that adopts the least squares loss function for the discriminator\n",
    "- 속이긴했는데 좋지 않는 data -> gradient vanishing을 일으킨다.\n",
    "![normal distribution](img/gan_12.png)\n",
    "\n",
    "![normal distribution](img/gan_13.png)\n",
    "\n",
    "\n",
    "> Semi-supervised GAN\n",
    "- fake label 생성\n",
    "\n",
    "![normal distribution](img/gan_14.png)\n",
    "\n",
    "> Auxiliary Classifier GAN\n",
    "\n",
    "![normal distribution](img/gan_15.png)\n",
    "![normal distribution](img/gan_16.png)\n",
    "\n",
    "# GAN의 확장\n",
    "> Cycle GAN\n",
    "![normal distribution](img/gan_17.png)\n",
    "\n",
    "- image의 domain style변경\n",
    "- enconder/decoder\n",
    "\n",
    "![normal distribution](img/gan_18.png)\n",
    "![normal distribution](img/gan_19.png)\n",
    "\n",
    "- 안에있는 contents만으로 속인다.\n",
    "\n",
    "> Stack GAN\n",
    "- text를 주었을때 그상황에 맞는 image를 준다.\n",
    "- 한계 고화질이 불가능하다.\n",
    "\n"
   ]
  },
  {
   "cell_type": "markdown",
   "metadata": {},
   "source": []
  }
 ],
 "metadata": {
  "interpreter": {
   "hash": "31f2aee4e71d21fbe5cf8b01ff0e069b9275f58929596ceb00d14d90e3e16cd6"
  },
  "kernelspec": {
   "display_name": "Python 3.8.9 64-bit",
   "language": "python",
   "name": "python3"
  },
  "language_info": {
   "codemirror_mode": {
    "name": "ipython",
    "version": 3
   },
   "file_extension": ".py",
   "mimetype": "text/x-python",
   "name": "python",
   "nbconvert_exporter": "python",
   "pygments_lexer": "ipython3",
   "version": "3.9.7"
  },
  "orig_nbformat": 4
 },
 "nbformat": 4,
 "nbformat_minor": 2
}

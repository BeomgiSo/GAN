{
 "cells": [
  {
   "cell_type": "markdown",
   "metadata": {},
   "source": [
    "- dense layer는 개발자가 원하는 demension을 가지고온다.\n",
    "- 차원을 내려가는 layer들을 encoder라한다.\n",
    "- Latent vector : 가장 낮은 차원의 데이터(image의 feature을 나타냄)\n",
    "- 차원을 늘려가는 layer들을 decoder라한다. : latent vector로 원본으로 그려준다.\n",
    "\n",
    "- ref : https://www.youtube.com/watch?v=JTD_q4wuw_4&t=151s\n",
    "    - https://github.com/minsuk-heo/tf2/blob/master/jupyter_notebooks/04.AutoEncoder.ipynb\n"
   ]
  },
  {
   "cell_type": "code",
   "execution_count": 1,
   "metadata": {},
   "outputs": [],
   "source": [
    "import tensorflow as tf\n"
   ]
  },
  {
   "cell_type": "code",
   "execution_count": 4,
   "metadata": {},
   "outputs": [],
   "source": [
    "\n",
    "(x_train,y_train),(x_test,y_test) = tf.keras.datasets.mnist.load_data()\n",
    "\n",
    "\n",
    "x_train = x_train.reshape(60000,784)\n",
    "\n",
    "x_test = x_test[:300]\n",
    "y_tset = y_test[:300]\n",
    "x_test = x_test.reshape(300,784)\n",
    "\n",
    "x_train = x_train.astype('float32')\n",
    "x_test = x_test.astype('float32')\n",
    "\n",
    "#nomalization\n",
    "\n",
    "gray_scale = 255\n",
    "x_train/=gray_scale\n",
    "x_train/=gray_scale\n",
    "\n",
    "\n",
    "\n"
   ]
  },
  {
   "cell_type": "code",
   "execution_count": null,
   "metadata": {},
   "outputs": [],
   "source": [
    "input_img = Input(shape=(784,))\n",
    "\n",
    "encoder1 = Dense(128,activation = 'sigmoid')(input_img)\n",
    "encoder2 = Dense(784,activation = 'sigmoid')(encoder1)\n",
    "\n",
    "decoder = "
   ]
  }
 ],
 "metadata": {
  "interpreter": {
   "hash": "d5ebc6cf6f7fb120347a232b371902f436be28b211613027002426b5b4c265db"
  },
  "kernelspec": {
   "display_name": "Python 3.9.13 ('tensor-mac')",
   "language": "python",
   "name": "python3"
  },
  "language_info": {
   "codemirror_mode": {
    "name": "ipython",
    "version": 3
   },
   "file_extension": ".py",
   "mimetype": "text/x-python",
   "name": "python",
   "nbconvert_exporter": "python",
   "pygments_lexer": "ipython3",
   "version": "3.9.13"
  },
  "orig_nbformat": 4
 },
 "nbformat": 4,
 "nbformat_minor": 2
}

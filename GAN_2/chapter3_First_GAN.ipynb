{
 "cells": [
  {
   "cell_type": "markdown",
   "metadata": {},
   "source": [
    "# Chapter 3 첫 번째 GAN 구현하기\n",
    "- 이 장에서는 다음 내용을 다룹니다.\n",
    "- GAN과 합성곱 신경망의 차이점을 이해한다.\n",
    "- 케라스로 GAN를 구현하고 훈련하여 손글씨 숫자를 생성한다. ㄴ"
   ]
  },
  {
   "cell_type": "code",
   "execution_count": null,
   "metadata": {},
   "outputs": [],
   "source": []
  }
 ],
 "metadata": {
  "language_info": {
   "name": "python"
  },
  "orig_nbformat": 4
 },
 "nbformat": 4,
 "nbformat_minor": 2
}

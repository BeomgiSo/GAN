{
 "cells": [
  {
   "cell_type": "code",
   "execution_count": null,
   "metadata": {},
   "outputs": [],
   "source": []
  },
  {
   "cell_type": "markdown",
   "metadata": {},
   "source": [
    "# Part1 GAN과 생성 모델링\n",
    "- 목표\n",
    "    - 1장 : GAN의 기초를 익히고 GAN이 작동하는 방식을 직관적으로 이해하기\n",
    "    - 2장 : 주제를 살짝 바꿔 오토인코더 알아보기, 생성적 모델링에 대한 전반적인 이해를 넓힌다. 오토인코더는 GAN이전 이론과 실무에서 중요한 모델이다.\n",
    "    - 3장 : 1장에서 다룬 주제에 이어 GAN과 적대 학습 이면에 깔려 있는 이론을 더 자세히 알아보자. GAN구현해보기\n",
    "    - 4장 : DCGAN을 살펴보자. DCGAN은 기존의 GAN에 CNN을 추가해 신경망이 생성하는 이미지의 품질을 올린다.\n",
    "    "
   ]
  },
  {
   "cell_type": "markdown",
   "metadata": {},
   "source": [
    "## Chapter 1 GAN 시작하기\n",
    "- GAN의 개요\n",
    "- GAN이 특별한 이유\n",
    "- 이책에서 다루는 GAN 애플리케이션\n",
    "\n",
    "- 2014년 당시 몬트리올 대학교에서 박사 후 연구원으로 일하던 이언 굿 펠로가 GAN을 발명한 이후로 완전히 바뀌었습니다.\n",
    "- GAN은 신경망 하나가 아닌 두개의 구분된 신경망을 사용해 실제와 유사한 데이터를 생성한다.\n",
    "- GAN이 데이터를 생성하기 위해 사용한 척 번째 프로개름은 아니다. 그러나 GAN은 놀라운 결과를 만들었다.\n",
    "- 모두 레이블된 훈련 데이터를 대량으로 준비하지 않아도 가능하다.\n",
    "\n",
    "### 1.1 GAN이란?\n",
    "- 생성적 적대 신경망(generative adversial net)"
   ]
  }
 ],
 "metadata": {
  "language_info": {
   "name": "python"
  },
  "orig_nbformat": 4
 },
 "nbformat": 4,
 "nbformat_minor": 2
}
